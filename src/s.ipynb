{
 "cells": [
  {
   "cell_type": "markdown",
   "metadata": {},
   "source": [
    "## 連網問答"
   ]
  },
  {
   "cell_type": "code",
   "execution_count": 18,
   "metadata": {},
   "outputs": [
    {
     "name": "stdout",
     "output_type": "stream",
     "text": [
      "00878績效表現 - Google 搜尋Google×如果系統沒有在數秒鐘後將您重新導向，請按一下這裡。    全部新聞圖片購物 地圖 影片 書籍 搜尋工具    不限語言不限語言搜尋所有中文網頁搜尋繁體中文網頁不限時間不限時間 過去 1 小時 過去 24 小時 過去 1 週 過去 1 個月 過去 1 年所有結果所有結果一字不差國民ETF「00878」績效遭超車？低調贏家現身！從定期定額、單筆 ...smart.businessweekly.com.tw › 財經好讀 › 股票 › ETF獲利術2023年5月4日 · 00878跟國泰台灣高股息基金怎麼選：績效比較. 接下來到了最令人期待的績效部分，股感在這邊將會藉由比較單筆購入以及定期定額投資 ...缺少字詞：  表現 | 必須包含以下字詞：表現最新！0050 vs. 00878「績效PK大解析」 ETF新舊傳奇該 ... - YouTubewww.youtube.com › watch2023年3月20日 · 2023版）｜懶錢包LazyWallet 國泰永續高股息（00878）上市短短2年多就成為ETF人氣 ...時間長度： 10:56發布時間： 2023年3月20日0056、00701、00878、00900...同樣高股息ETF，績效為何能落差 ...www.businesstoday.com.tw › 投資理財 › ETF2022年8月26日 · 0056、00701、00878、00900這4檔ETF都是以高股息為主題的策略型ETF，可是你看過去這段時間內的報酬率表現有很接近嗎？這四檔正紅的ETF的報酬率分別 ...股災見績效高下這族群2檔ETF打敗00878、0050！finance.ettoday.net › ETtoday財經雲2022年12月2日 · 在台股走空下，高息低波ETF表現亮眼，輕鬆打敗大盤。 圖文／鏡週刊. 雖然近1個月台股反彈超過2,000點，但仍有許多股票有近2成的虧損。投資00878還是0056比較好？國泰ESG高股息ETF vs. 元大 ... - 市場先生rich01.com › 00878etf-vs-0056etf2023年4月20日 · 成分股績效表現影響報酬率：需要時間驗證. 無論配息或是ETF淨值走勢，都與成分股的績效表現相關。成分股的篩選與權重，是根據追蹤 ...00878永續高股息指數ETF：成分股、配息與殖利率 - 永豐金證券www.sinotrade.com.tw › 豐雲學堂 › 選股策略頻道 | 存股怎麼買專欄00878已成為台灣存股族最喜愛的ESG永續型ETF(根據證交所數據)，本文將讓您快速了解永續高股息 ... 母體為：MSCI 台灣指數(簡稱摩台指，追蹤台灣大型股和中型股的表現。).高股息ETF表格／00878與0056績效... - 激流商業網www.torrentbusiness.com › article2023年3月7日 · 對高股息愛好者來說，肯定相當重視配息的多寡和穩定性，存股終極目標是追求不間斷的現金流。 一樣看近10年表現，表上的殖利率是 ...高股息ETF 0056 vs. 00878 績效大PK 什麼？投資報酬率差20% - 陳詩慧histock.tw › 部落格 › 陳詩慧2022年10月13日 · ... 配如此高股息背後的秘密嗎？2020年7月20日才成立的00878國泰永續高股息也不是省油的燈喔！ ... 00878 績效大PK 什麼？ ... 文章中相關個股表現 ...00878公告今年第4次預估收益分配11/15為參與配息最後申購日www.cathayholdings.com › information-centre › intro › latest-news › detail... 加權股價指數的殖利率表現，想要完整參與00878每季配息及填息的機會，現在即可進場持有佈局。 國泰永續高股息(基金之配息來源可能為收益平準金)(00878)績效表現 ...圖片全部顯示全部顯示  <第 2 頁>  中正區 台北市根據你的 IP 位址 - 瞭解詳情登入設定隱私權服務條款深色主題：關閉 \n"
     ]
    }
   ],
   "source": [
    "from langchain.document_loaders import WebBaseLoader\n",
    "query = \"00878績效表現\"\n",
    "i = 1\n",
    "url = f\"https://www.google.com/search?q={query}&start={i}0\"\n",
    "loader = WebBaseLoader(url)\n",
    "data = loader.load()\n",
    "content = data[0].page_content\n",
    "print(content)"
   ]
  },
  {
   "cell_type": "markdown",
   "metadata": {},
   "source": [
    "## 爬取股票資訊"
   ]
  },
  {
   "cell_type": "code",
   "execution_count": 51,
   "metadata": {},
   "outputs": [
    {
     "name": "stdout",
     "output_type": "stream",
     "text": [
      "台積電\n"
     ]
    }
   ],
   "source": [
    "import requests\n",
    "from bs4 import BeautifulSoup\n",
    "\n",
    "stock_code = 2330\n",
    "url = f'https://tw.stock.yahoo.com/quote/{stock_code}.TW'\n",
    "response = requests.get(url)\n",
    "soup = BeautifulSoup(response.text, 'html.parser')\n",
    "name = soup.find('h1', {'class': 'C($c-link-text) Fw(b) Fz(24px) Mend(8px)'}).text\n",
    "print(name)"
   ]
  },
  {
   "cell_type": "code",
   "execution_count": 35,
   "metadata": {},
   "outputs": [
    {
     "name": "stdout",
     "output_type": "stream",
     "text": [
      "$554.00\n",
      "$556.00 - $561.00\n",
      "$370.00 - $594.00\n",
      "14.47T TWD\n",
      "14.98\n",
      "2.02%\n"
     ]
    }
   ],
   "source": [
    "import requests\n",
    "from bs4 import BeautifulSoup\n",
    "\n",
    "stock_code = 2330\n",
    "url = f'https://www.google.com/finance/quote/{stock_code}:TPE'\n",
    "response = requests.get(url)\n",
    "soup = BeautifulSoup(response.text, 'html.parser')\n",
    "price = soup.find('div', {'class': 'YMlKec fxKbKc'}).text\n",
    "elements = soup.find_all('div', {'class': 'P6K39c'})\n",
    "\n",
    "print(price) #現價\n",
    "print(elements[0].text) #前一日收盤價\n",
    "print(elements[1].text) #日價格區間\n",
    "print(elements[2].text) #年價格區間\n",
    "print(elements[3].text) #市值\n",
    "print(elements[4].text) #本益比\n",
    "print(elements[5].text) #股息收益率"
   ]
  },
  {
   "cell_type": "code",
   "execution_count": 47,
   "metadata": {},
   "outputs": [
    {
     "name": "stdout",
     "output_type": "stream",
     "text": [
      "Revenue   480.84B   -9.98%\n",
      "Operating expense   58.24B   9.18%\n",
      "Net income   181.80B   -23.30%\n",
      "Net profit margin   37.81   -14.80%\n",
      "Earnings per share   1.14   -87.53%\n",
      "EBITDA   325.90B   -12.73%\n",
      "Effective tax rate   15.35%   -\n",
      "Cash and short-term investments   1.49T   2.73%\n",
      "Total assets   5.15T   18.49%\n",
      "Total liabilities   1.94T   5.91%\n",
      "Total equity   3.21T   -\n",
      "Shares outstanding   25.93B   -\n",
      "Price to book   4.50   -\n",
      "Return on assets   9.90%   -\n",
      "Return on capital   12.46%   -\n",
      "Net income   181.80B   -23.30%\n",
      "Cash from operations   167.25B   -50.64%\n",
      "Cash from investing   -259.33B   6.02%\n",
      "Cash from financing   -26.59B   -239.35%\n",
      "Net change in cash   -108.51B   -206.80%\n",
      "Free cash flow   -149.38B   -301.59%\n"
     ]
    }
   ],
   "source": [
    "url = f'https://www.google.com/finance/quote/{stock_code}:TPE'\n",
    "response = requests.get(url)\n",
    "soup = BeautifulSoup(response.text, 'html.parser')\n",
    "titles = soup.find_all('div', {'class': 'rsPbEe'})\n",
    "values = soup.find_all('td', {'class': 'QXDnM'})\n",
    "td_elements = soup.find_all('td', {'class': 'gEUVJe'})\n",
    "changes = []\n",
    "for td_element in td_elements:\n",
    "    span_element = td_element.find('span', {'class': ['JwB6zf Ez2Ioe CnzlGc', 'JwB6zf Ebnabc CnzlGc']})\n",
    "    if span_element is not None:\n",
    "        changes.append(span_element.text)\n",
    "    else:\n",
    "        changes.append(\"-\")\n",
    "for title,value,change in zip(titles,values,changes):\n",
    "    # process each element as needed\n",
    "    print(title.text,\" \",value.text,\" \",change)\n"
   ]
  },
  {
   "cell_type": "code",
   "execution_count": null,
   "metadata": {},
   "outputs": [],
   "source": []
  }
 ],
 "metadata": {
  "kernelspec": {
   "display_name": "Python 3",
   "language": "python",
   "name": "python3"
  },
  "language_info": {
   "codemirror_mode": {
    "name": "ipython",
    "version": 3
   },
   "file_extension": ".py",
   "mimetype": "text/x-python",
   "name": "python",
   "nbconvert_exporter": "python",
   "pygments_lexer": "ipython3",
   "version": "3.11.4"
  },
  "orig_nbformat": 4
 },
 "nbformat": 4,
 "nbformat_minor": 2
}
